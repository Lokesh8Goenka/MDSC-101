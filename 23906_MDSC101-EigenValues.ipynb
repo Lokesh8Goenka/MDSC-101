{
  "nbformat": 4,
  "nbformat_minor": 0,
  "metadata": {
    "colab": {
      "provenance": [],
      "authorship_tag": "ABX9TyPNS8cQcOANT+NZ+EBPBe3g",
      "include_colab_link": true
    },
    "kernelspec": {
      "name": "python3",
      "display_name": "Python 3"
    },
    "language_info": {
      "name": "python"
    }
  },
  "cells": [
    {
      "cell_type": "markdown",
      "metadata": {
        "id": "view-in-github",
        "colab_type": "text"
      },
      "source": [
        "<a href=\"https://colab.research.google.com/github/Lokesh8Goenka/MDSC-101/blob/main/23906_MDSC101-EigenValues.ipynb\" target=\"_parent\"><img src=\"https://colab.research.google.com/assets/colab-badge.svg\" alt=\"Open In Colab\"/></a>"
      ]
    },
    {
      "cell_type": "markdown",
      "source": [
        "# 2/9/23"
      ],
      "metadata": {
        "id": "ffUmEF5q3KSa"
      }
    },
    {
      "cell_type": "code",
      "source": [
        "import numpy as np\n",
        "from numpy import linalg as LA"
      ],
      "metadata": {
        "id": "sVr2zwNH3U-C"
      },
      "execution_count": 63,
      "outputs": []
    },
    {
      "cell_type": "code",
      "source": [
        "# user input for dimension of the matrix.\n",
        "col = int(input(\"Column of the matrix.\"))\n",
        "row = int(input(\"Row of the matrix.\"))\n",
        "\n",
        "mat = []\n",
        "for i in range(row):\n",
        "  l1 = []\n",
        "  mat.append(l1)\n",
        "  for j in range(col):\n",
        "    # user input element\n",
        "    ele = int(input())\n",
        "    l1.append(ele)\n",
        "\n",
        "print(mat)"
      ],
      "metadata": {
        "colab": {
          "base_uri": "https://localhost:8080/"
        },
        "id": "sTaaEwRY9KW7",
        "outputId": "ab7046e1-eb2b-4d9b-bdc2-f04ad822563b"
      },
      "execution_count": 22,
      "outputs": [
        {
          "output_type": "stream",
          "name": "stdout",
          "text": [
            "Column of the matrix.2\n",
            "Row of the matrix.3\n",
            "1\n",
            "2\n",
            "3\n",
            "4\n",
            "5\n",
            "6\n",
            "[[1, 2], [3, 4], [5, 6]]\n"
          ]
        }
      ]
    },
    {
      "cell_type": "markdown",
      "source": [
        "## A (A^T)"
      ],
      "metadata": {
        "id": "sIoiJgPEGi6t"
      }
    },
    {
      "cell_type": "code",
      "source": [
        "mat_T = np.transpose(mat)\n",
        "mat_T"
      ],
      "metadata": {
        "colab": {
          "base_uri": "https://localhost:8080/"
        },
        "id": "Fo9vfyo5C-nN",
        "outputId": "c3ba95a0-a6d2-41b9-ced5-901650c81a7d"
      },
      "execution_count": 23,
      "outputs": [
        {
          "output_type": "execute_result",
          "data": {
            "text/plain": [
              "array([[1, 3, 5],\n",
              "       [2, 4, 6]])"
            ]
          },
          "metadata": {},
          "execution_count": 23
        }
      ]
    },
    {
      "cell_type": "code",
      "source": [
        "mat_mul = np.matmul(mat,mat_T)\n",
        "mat_mul"
      ],
      "metadata": {
        "colab": {
          "base_uri": "https://localhost:8080/"
        },
        "id": "kBZ_wx2xDLJV",
        "outputId": "c7daf210-77a8-4796-fd67-929f51f445f1"
      },
      "execution_count": 29,
      "outputs": [
        {
          "output_type": "execute_result",
          "data": {
            "text/plain": [
              "array([[ 5, 11, 17],\n",
              "       [11, 25, 39],\n",
              "       [17, 39, 61]])"
            ]
          },
          "metadata": {},
          "execution_count": 29
        }
      ]
    },
    {
      "cell_type": "code",
      "source": [
        "eigenval1, eigenvector1 = LA.eig(mat_mul)\n",
        "\n",
        "print(\"Eigen Value:\", eigenval1)\n",
        "print(\"Eigen Vector:\\n\", eigenvector1)"
      ],
      "metadata": {
        "colab": {
          "base_uri": "https://localhost:8080/"
        },
        "id": "nbrQyFlGEj3c",
        "outputId": "0e2230f0-7eac-44f5-e582-5865af50500f"
      },
      "execution_count": 44,
      "outputs": [
        {
          "output_type": "stream",
          "name": "stdout",
          "text": [
            "Eigen Value: [ 0.26450509 90.73549491]\n",
            "Eigen Vector:\n",
            " [[-0.78489445 -0.61962948]\n",
            " [ 0.61962948 -0.78489445]]\n"
          ]
        }
      ]
    },
    {
      "cell_type": "markdown",
      "source": [
        "## A^T (A)"
      ],
      "metadata": {
        "id": "LqGeUxgRF2_V"
      }
    },
    {
      "cell_type": "code",
      "source": [
        "mat_mul = np.matmul(mat_T,mat)\n",
        "mat_mul"
      ],
      "metadata": {
        "colab": {
          "base_uri": "https://localhost:8080/"
        },
        "id": "UlVVPP44GFah",
        "outputId": "b6fb3151-3dd9-45c5-b3fc-ea54efbaa627"
      },
      "execution_count": 35,
      "outputs": [
        {
          "output_type": "execute_result",
          "data": {
            "text/plain": [
              "array([[35, 44],\n",
              "       [44, 56]])"
            ]
          },
          "metadata": {},
          "execution_count": 35
        }
      ]
    },
    {
      "cell_type": "code",
      "source": [
        "eigenval2, eigenvector2 = LA.eig(mat_mul)\n",
        "\n",
        "print(\"Eigen Value:\", eigenval2)\n",
        "print(\"Eigen Vector:\\n\", eigenvector2)"
      ],
      "metadata": {
        "colab": {
          "base_uri": "https://localhost:8080/"
        },
        "id": "SS6rnB98GLPE",
        "outputId": "e74fbe06-e7d9-4eea-8205-9d1911b9a978"
      },
      "execution_count": 40,
      "outputs": [
        {
          "output_type": "stream",
          "name": "stdout",
          "text": [
            "Eigen Value: [ 0.26450509 90.73549491]\n",
            "Eigen Vector:\n",
            " [[-0.78489445 -0.61962948]\n",
            " [ 0.61962948 -0.78489445]]\n"
          ]
        }
      ]
    },
    {
      "cell_type": "code",
      "source": [
        "Lamb1 = np.diag(np.sqrt(eigenval1))\n",
        "Lamb2 = np.diag(np.sqrt(eigenval2))\n",
        "\n",
        "print(Lamb1)\n",
        "print(Lamb2)"
      ],
      "metadata": {
        "colab": {
          "base_uri": "https://localhost:8080/"
        },
        "id": "vn8X5QNRI-dK",
        "outputId": "085cbaf6-0891-45d0-9cb0-5e934d45fd27"
      },
      "execution_count": 69,
      "outputs": [
        {
          "output_type": "stream",
          "name": "stdout",
          "text": [
            "[[0.51430058 0.        ]\n",
            " [0.         9.52551809]]\n",
            "[[0.51430058 0.        ]\n",
            " [0.         9.52551809]]\n"
          ]
        }
      ]
    }
  ]
}