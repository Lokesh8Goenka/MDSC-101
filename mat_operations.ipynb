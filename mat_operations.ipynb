{
 "cells": [
  {
   "cell_type": "markdown",
   "metadata": {},
   "source": [
    "## Matrix Operations"
   ]
  },
  {
   "cell_type": "code",
   "execution_count": null,
   "metadata": {},
   "outputs": [],
   "source": [
    "def Matrix(m):\n",
    "        matrix=[]\n",
    "        for i in range(m):\n",
    "                temp=0\n",
    "                row=[]\n",
    "                while(temp!=m):\n",
    "                        print(\"Row \",i+1,\":\",end=\"\")\n",
    "                        row = list(map(int,input().split()))\n",
    "                        temp=len(row)\n",
    "                matrix.append(row)\n",
    "        return matrix\n"
   ]
  },
  {
   "cell_type": "code",
   "execution_count": null,
   "metadata": {},
   "outputs": [],
   "source": [
    "\n",
    "def subMatrix(matrix,k,l):\n",
    "        subMat=[]\n",
    "        for i in range(len(matrix)):\n",
    "                if i!=k:\n",
    "                        row=[]\n",
    "                        for j in range(len(matrix)):\n",
    "                                if j!=l:\n",
    "                                        row.append(matrix[i][j])\n",
    "                        subMat.append(row)\n",
    "        return subMat"
   ]
  },
  {
   "cell_type": "code",
   "execution_count": null,
   "metadata": {},
   "outputs": [],
   "source": [
    "def det(matrix):\n",
    "        if len(matrix)==1:\n",
    "                return matrix[0][0]\n",
    "\n",
    "        result=0\n",
    "        for i in range(len(matrix)):\n",
    "                subMat=subMatrix(matrix,0,i)\n",
    "                if i%2==0:\n",
    "                        result+=(matrix[0][i]*det(subMat))\n",
    "                else:\n",
    "                        result-=(matrix[0][i]*det(subMat))\n",
    "        return result"
   ]
  },
  {
   "cell_type": "code",
   "execution_count": null,
   "metadata": {},
   "outputs": [],
   "source": [
    "\n",
    "def coFactor(matrix):\n",
    "        if len(matrix)==1:\n",
    "                return matrix\n",
    "\n",
    "        coFact=[]\n",
    "        for i in range(len(matrix)):\n",
    "                row=[]\n",
    "                for j in range(len(matrix)):\n",
    "                        subMat=subMatrix(matrix,i,j)\n",
    "                        determinent=det(subMat)\n",
    "                        row.append(((-1)**(i+j))*determinent)\n",
    "                coFact.append(row)\n",
    "        return coFact\n"
   ]
  },
  {
   "cell_type": "code",
   "execution_count": null,
   "metadata": {},
   "outputs": [],
   "source": [
    "def inverse(coFact,determinent):\n",
    "        inverseMatrix=[]\n",
    "        for i in range(len(coFact)):\n",
    "                row=[]\n",
    "                for j in range(len(coFact)):\n",
    "                        row.append((1/determinent)*coFact[j][i])\n",
    "                inverseMatrix.append(row)\n",
    "        return inverseMatrix"
   ]
  },
  {
   "cell_type": "code",
   "execution_count": null,
   "metadata": {},
   "outputs": [],
   "source": [
    "def display(matrix):\n",
    "        print()\n",
    "        for i in matrix:\n",
    "                print(i)\n",
    "        print()"
   ]
  },
  {
   "cell_type": "code",
   "execution_count": 3,
   "metadata": {},
   "outputs": [],
   "source": [
    "print(\"Matrix Determinent:\")\n",
    "m = int(input(\"Dimensions(NxN):\"))\n",
    "\n",
    "matrix=Matrix(m)\n",
    "\n",
    "determinent=det(matrix)\n",
    "coFact=coFactor(matrix)\n",
    "inverseMatrix=inverse(coFact,determinent)\n",
    "\n",
    "print(\"Det(matrix):{}\".format(determinent))\n",
    "print(\"Co Factor:\")\n",
    "display(coFact)\n",
    "print(\"Inverse:\")\n",
    "display(inverseMatrix)"
   ]
  }
 ],
 "metadata": {
  "kernelspec": {
   "display_name": "Python 3",
   "language": "python",
   "name": "python3"
  },
  "language_info": {
   "codemirror_mode": {
    "name": "ipython",
    "version": 3
   },
   "file_extension": ".py",
   "mimetype": "text/x-python",
   "name": "python",
   "nbconvert_exporter": "python",
   "pygments_lexer": "ipython3",
   "version": "3.11.1"
  },
  "orig_nbformat": 4
 },
 "nbformat": 4,
 "nbformat_minor": 2
}
