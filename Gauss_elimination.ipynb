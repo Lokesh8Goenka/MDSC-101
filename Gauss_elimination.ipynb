{
 "cells": [
  {
   "cell_type": "markdown",
   "metadata": {},
   "source": [
    "Gaussian Elimination and printing the row echelon form"
   ]
  },
  {
   "cell_type": "code",
   "execution_count": 46,
   "metadata": {},
   "outputs": [
    {
     "name": "stdout",
     "output_type": "stream",
     "text": [
      "[[1, 2, 3], [4, 5, 6], [7, 8, 9]]\n"
     ]
    },
    {
     "data": {
      "text/plain": [
       "' \\n    1 2 3\\n    4 5 6\\n    7 8 9\\n'"
      ]
     },
     "execution_count": 46,
     "metadata": {},
     "output_type": "execute_result"
    }
   ],
   "source": [
    "# no of unknows \n",
    "x = int(input())\n",
    "\n",
    "# no of equations \n",
    "n = int((input()))\n",
    "\n",
    "if x > n:\n",
    "    print(\"Error\") \n",
    "\n",
    "# input\n",
    "mat1 = []\n",
    "for i in range(0, n):\n",
    "\tlist_i = []\n",
    "\tmat1.append(list_i)\n",
    "\tfor j in range(0, x):\n",
    "\t\tlist_i.append(int(input()))\n",
    "\n",
    "print(mat1)\n",
    "\n",
    "''' \n",
    "    1 2 3\n",
    "    4 5 6\n",
    "    7 8 9\n",
    "'''\n"
   ]
  },
  {
   "cell_type": "code",
   "execution_count": 79,
   "metadata": {},
   "outputs": [],
   "source": [
    "def gauss(mat,n,x):\n",
    "    for i in range(0,2):\n",
    "        if mat[i][0] != 0:\n",
    "            p = mat[i][0]\n",
    "        p_below = n-i   # no of elements below the pivot\n",
    "        if p_below != 0:\n",
    "            dif = int((mat[i+1][0] // p) + ((mat[i+1][0] / p) * p))\n",
    "            mat[i+1][0] = mat[i+1][0] - dif\n",
    "        for j in range(0,2):\n",
    "            if mat[i][j] != 0:\n",
    "                p = mat[i][j]   # element 1 (pivot)\n",
    "        \n",
    "\n",
    "            if mat[i+1][j] != 0:\n",
    "                dif = int((mat[i+1][0] // p) + ((mat[i+1][0] / p) * p))\n",
    "                if p == 1:\n",
    "                    dif += 1\n",
    "                \n",
    "                # print(\"dif\", dif)\n",
    "                mat[i+1][j]  = mat[i+1][j] - dif\n",
    "    print(mat)"
   ]
  },
  {
   "cell_type": "code",
   "execution_count": 80,
   "metadata": {},
   "outputs": [
    {
     "name": "stdout",
     "output_type": "stream",
     "text": [
      "[[1, 2, 3], [0.0, -1.0, 0.0], [0.0, 0.0, 0.0]]\n"
     ]
    }
   ],
   "source": [
    "gauss(mat1,n,x)"
   ]
  },
  {
   "cell_type": "code",
   "execution_count": null,
   "metadata": {},
   "outputs": [],
   "source": []
  }
 ],
 "metadata": {
  "kernelspec": {
   "display_name": "base",
   "language": "python",
   "name": "python3"
  },
  "language_info": {
   "codemirror_mode": {
    "name": "ipython",
    "version": 3
   },
   "file_extension": ".py",
   "mimetype": "text/x-python",
   "name": "python",
   "nbconvert_exporter": "python",
   "pygments_lexer": "ipython3",
   "version": "3.10.9"
  },
  "orig_nbformat": 4
 },
 "nbformat": 4,
 "nbformat_minor": 2
}
