{
 "cells": [
  {
   "cell_type": "markdown",
   "metadata": {},
   "source": [
    "Matric Determinent, Co factor, inverse\n"
   ]
  },
  {
   "cell_type": "code",
   "execution_count": 5,
   "metadata": {},
   "outputs": [],
   "source": [
    "\n",
    "# def insert_mat():\n",
    "row = int(input(\"Enter the no of rows of the matrix.\"))\n",
    "col = int(input(\"Enter the no of columns of the matrix.\"))\n",
    "matrix = []\n",
    "\n",
    "if row != col:\n",
    "\tprint(\"Row and column are not same.\")\n",
    "else:\n",
    "\tfor i in range(0, row):\n",
    "\t\tlist_i = []\n",
    "\t\tmatrix.append(list_i)\n",
    "\t\tfor j in range(0, col):\n",
    "\t\t\tlist_i.append(int(input(\"\")))\n",
    "\t\t\t\n",
    "\t# print(mat)\n",
    "\t# return matrix\n",
    "\t\n",
    "# insert_mat()"
   ]
  },
  {
   "cell_type": "code",
   "execution_count": 6,
   "metadata": {},
   "outputs": [
    {
     "name": "stdout",
     "output_type": "stream",
     "text": [
      "-2\n"
     ]
    }
   ],
   "source": [
    "def det_2mat(mat):\n",
    "    ans = []\n",
    "    for i in range(0,row):\n",
    "        for j in range(0,col):\n",
    "            if i == 0 and j == 0:\n",
    "                # print(\"i, j, mat\",i,j,mat[i][j])\n",
    "                # print(\"-j, -i, mat\",j,i,mat[-(row-1)][-(col-1)])\n",
    "                temp = mat[0][0] * mat[-(row-1)][-(col-1)]\n",
    "                # print(temp)\n",
    "                ans.append(temp)        \n",
    "            else:\n",
    "                # print(\"i, j, mat\",i,j,mat[i][j])\n",
    "                # print(\"-j, -i, mat\",j,i,mat[-j][-i])\n",
    "                temp = mat[i][j] * mat[-j][-i]\n",
    "                # print(temp)\n",
    "                ans.append(temp)\n",
    "    # print(ans)\n",
    "\n",
    "    det = ans[0] - ans[1]\n",
    "    print(det)\n",
    "\n",
    "# mat = insert_mat()\n",
    "det_2mat(matrix)\n"
   ]
  },
  {
   "cell_type": "code",
   "execution_count": null,
   "metadata": {},
   "outputs": [],
   "source": []
  }
 ],
 "metadata": {
  "kernelspec": {
   "display_name": "Python 3",
   "language": "python",
   "name": "python3"
  },
  "language_info": {
   "codemirror_mode": {
    "name": "ipython",
    "version": 3
   },
   "file_extension": ".py",
   "mimetype": "text/x-python",
   "name": "python",
   "nbconvert_exporter": "python",
   "pygments_lexer": "ipython3",
   "version": "3.10.9"
  },
  "orig_nbformat": 4
 },
 "nbformat": 4,
 "nbformat_minor": 2
}
